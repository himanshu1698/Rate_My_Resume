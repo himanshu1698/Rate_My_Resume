{
 "cells": [
  {
   "cell_type": "code",
   "execution_count": 1,
   "metadata": {
    "tags": []
   },
   "outputs": [],
   "source": [
    "from selenium.common.exceptions import NoSuchElementException, ElementClickInterceptedException\n",
    "from selenium import webdriver\n",
    "import time\n",
    "import pandas as pd\n",
    "from selenium.webdriver.common.by import By"
   ]
  },
  {
   "cell_type": "code",
   "execution_count": 51,
   "metadata": {
    "tags": []
   },
   "outputs": [],
   "source": [
    "def get_jobs(keyword, num_jobs, verbose):\n",
    "    \n",
    "    '''Gathers jobs as a dataframe, scraped from Glassdoor'''\n",
    "    \n",
    "    #Initializing the webdriver\n",
    "    options = webdriver.ChromeOptions()\n",
    "    \n",
    "    #Uncomment the line below if you'd like to scrape without a new Chrome window every time.\n",
    "    #options.add_argument('headless')\n",
    "    \n",
    "    #Change the path to where chromedriver is in your home folder.\n",
    "    driver = webdriver.Chrome()  #executable_path=\"/Users/omersakarya/Documents/GitHub/scraping-glassdoor-selenium/chromedriver\", options=options)\n",
    "    driver.set_window_size(1120, 1000)\n",
    "\n",
    "    # url = 'https://www.glassdoor.com/Job/jobs.htm?sc.keyword=' + keyword + '&locT=C&locId=1147401&locKeyword=San%20Francisco,%20CA&jobType=all&fromAge=-1&minSalary=0&includeNoSalaryJobs=true&radius=100&cityId=-1&minRating=0.0&industryId=-1&sgocId=-1&seniorityType=all&companyId=-1&employerSizes=0&applicationType=0&remoteWorkType=0'\n",
    "    url = 'https://www.glassdoor.com/Job/jobs.htm?sc.keyword=' + keyword\n",
    "    driver.get(url)\n",
    "    jobs = []\n",
    "\n",
    "    while len(jobs) < num_jobs:  #If true, should be still looking for new jobs.\n",
    "\n",
    "        #Let the page load. Change this number based on your internet speed.\n",
    "        #Or, wait until the webpage is loaded, instead of hardcoding it.\n",
    "        time.sleep(1)  \n",
    "        \n",
    "        #Going through each job in this page\n",
    "        job_buttons = driver.find_elements(\"name\",\"JobsList_wrapper__wgimi\")  #jl for Job Listing. These are the buttons we're going to click.\n",
    "        print(job_buttons)\n",
    "        for job_button in job_buttons:  \n",
    "\n",
    "            print(\"Progress: {}\".format(\"\" + str(len(jobs)) + \"/\" + str(num_jobs)))\n",
    "            if len(jobs) >= num_jobs:\n",
    "                break\n",
    "\n",
    "            job_button.click()  #You might \n",
    "            time.sleep(1)\n",
    "            collected_successfully = False\n",
    "            \n",
    "            while not collected_successfully:\n",
    "                try:\n",
    "                    company_name = driver.find_element('xpath','.//div[@class=\"EmployerProfile_profileContainer__d5rMb\"]').text\n",
    "                    location = driver.find_element('xpath','.//div[@class=\"JobCard_location__N_iYE\"]').text\n",
    "                    job_title = driver.find_element('xpath','.//div[contains(@class, \"JobCard_seoLink__WdqHZ\")]').text\n",
    "                    # job_description = driver.find_element('xpath','.//div[@class=\"jobDescriptionContent desc\"]').text\n",
    "                    collected_successfully = True\n",
    "                except:\n",
    "                    time.sleep(5)\n",
    "\n",
    "            try:\n",
    "                salary_estimate = driver.find_element('xpath','.//span[@class=\"JobCard_salaryEstimate___m9kY\"]').text\n",
    "            except NoSuchElementException:\n",
    "                salary_estimate = -1 #You need to set a \"not found value. It's important.\"\n",
    "            \n",
    "\n",
    "            #Printing for debugging\n",
    "            if verbose:\n",
    "                print(\"Job Title: {}\".format(job_title))\n",
    "                print(\"Salary Estimate: {}\".format(salary_estimate))\n",
    "                print(\"Job Description: {}\".format(job_description[:500]))\n",
    "                print(\"Rating: {}\".format(rating))\n",
    "                print(\"Company Name: {}\".format(company_name))\n",
    "                print(\"Location: {}\".format(location))\n",
    "\n",
    "            jobs.append({\"Job Title\" : job_title,\n",
    "            \"Salary Estimate\" : salary_estimate,\n",
    "            \"Job Description\" : job_description,\n",
    "            \"Rating\" : rating,\n",
    "            \"Company Name\" : company_name,\n",
    "            \"Location\" : location})\n",
    "            #add job to jobs\n",
    "\n",
    "        # #Clicking on the \"next page\" button\n",
    "        # try:\n",
    "        #     driver.find_element('xpath','.//li[@class=\"next\"]//a').click()\n",
    "        # except NoSuchElementException:\n",
    "        #     print(\"Scraping terminated before reaching target number of jobs. Needed {}, got {}.\".format(num_jobs, len(jobs)))\n",
    "        #     break\n",
    "\n",
    "    return pd.DataFrame(jobs)  #This line converts the dictionary object into a pandas DataFrame."
   ]
  },
  {
   "cell_type": "code",
   "execution_count": 52,
   "metadata": {
    "tags": []
   },
   "outputs": [
    {
     "ename": "KeyboardInterrupt",
     "evalue": "",
     "output_type": "error",
     "traceback": [
      "\u001b[1;31m---------------------------------------------------------------------------\u001b[0m",
      "\u001b[1;31mKeyboardInterrupt\u001b[0m                         Traceback (most recent call last)",
      "Cell \u001b[1;32mIn[52], line 2\u001b[0m\n\u001b[0;32m      1\u001b[0m \u001b[38;5;66;03m#This line will open a new chrome window and start the scraping.\u001b[39;00m\n\u001b[1;32m----> 2\u001b[0m df \u001b[38;5;241m=\u001b[39m get_jobs(\u001b[38;5;124m\"\u001b[39m\u001b[38;5;124mData Scientist\u001b[39m\u001b[38;5;124m\"\u001b[39m, \u001b[38;5;241m1\u001b[39m, \u001b[38;5;28;01mFalse\u001b[39;00m)\n\u001b[0;32m      3\u001b[0m df\n",
      "Cell \u001b[1;32mIn[51], line 24\u001b[0m, in \u001b[0;36mget_jobs\u001b[1;34m(keyword, num_jobs, verbose)\u001b[0m\n\u001b[0;32m     18\u001b[0m jobs \u001b[38;5;241m=\u001b[39m []\n\u001b[0;32m     20\u001b[0m \u001b[38;5;28;01mwhile\u001b[39;00m \u001b[38;5;28mlen\u001b[39m(jobs) \u001b[38;5;241m<\u001b[39m num_jobs:  \u001b[38;5;66;03m#If true, should be still looking for new jobs.\u001b[39;00m\n\u001b[0;32m     21\u001b[0m \n\u001b[0;32m     22\u001b[0m     \u001b[38;5;66;03m#Let the page load. Change this number based on your internet speed.\u001b[39;00m\n\u001b[0;32m     23\u001b[0m     \u001b[38;5;66;03m#Or, wait until the webpage is loaded, instead of hardcoding it.\u001b[39;00m\n\u001b[1;32m---> 24\u001b[0m     time\u001b[38;5;241m.\u001b[39msleep(\u001b[38;5;241m1\u001b[39m)  \n\u001b[0;32m     26\u001b[0m     \u001b[38;5;66;03m#Going through each job in this page\u001b[39;00m\n\u001b[0;32m     27\u001b[0m     job_buttons \u001b[38;5;241m=\u001b[39m driver\u001b[38;5;241m.\u001b[39mfind_elements(\u001b[38;5;124m\"\u001b[39m\u001b[38;5;124mname\u001b[39m\u001b[38;5;124m\"\u001b[39m,\u001b[38;5;124m\"\u001b[39m\u001b[38;5;124mJobsList_wrapper__wgimi\u001b[39m\u001b[38;5;124m\"\u001b[39m)  \u001b[38;5;66;03m#jl for Job Listing. These are the buttons we're going to click.\u001b[39;00m\n",
      "\u001b[1;31mKeyboardInterrupt\u001b[0m: "
     ]
    }
   ],
   "source": [
    "#This line will open a new chrome window and start the scraping.\n",
    "df = get_jobs(\"Data Scientist\", 1, False)\n",
    "df"
   ]
  },
  {
   "cell_type": "code",
   "execution_count": 31,
   "metadata": {
    "tags": []
   },
   "outputs": [],
   "source": [
    "keyword = 'data scientist'"
   ]
  },
  {
   "cell_type": "code",
   "execution_count": 32,
   "metadata": {
    "tags": []
   },
   "outputs": [
    {
     "data": {
      "text/plain": [
       "'https://www.glassdoor.com/Job/data scientist-jobs-SRCH_KO0,12.htm'"
      ]
     },
     "execution_count": 32,
     "metadata": {},
     "output_type": "execute_result"
    }
   ],
   "source": [
    "url1 = \"https://www.glassdoor.com/Job/\" + keyword +\"-jobs-SRCH_KO0,12.htm\"\n",
    "url1"
   ]
  },
  {
   "cell_type": "code",
   "execution_count": 33,
   "metadata": {
    "tags": []
   },
   "outputs": [
    {
     "data": {
      "text/plain": [
       "'https://www.glassdoor.com/Job/jobs.htm?sc.keyword=data scientist'"
      ]
     },
     "execution_count": 33,
     "metadata": {},
     "output_type": "execute_result"
    }
   ],
   "source": [
    "url = 'https://www.glassdoor.com/Job/jobs.htm?sc.keyword=' + keyword\n",
    "url   "
   ]
  },
  {
   "cell_type": "code",
   "execution_count": 42,
   "metadata": {
    "tags": []
   },
   "outputs": [
    {
     "ename": "NameError",
     "evalue": "name 'df' is not defined",
     "output_type": "error",
     "traceback": [
      "\u001b[1;31m---------------------------------------------------------------------------\u001b[0m",
      "\u001b[1;31mNameError\u001b[0m                                 Traceback (most recent call last)",
      "Cell \u001b[1;32mIn[42], line 1\u001b[0m\n\u001b[1;32m----> 1\u001b[0m df\n",
      "\u001b[1;31mNameError\u001b[0m: name 'df' is not defined"
     ]
    }
   ],
   "source": [
    "df"
   ]
  },
  {
   "cell_type": "code",
   "execution_count": null,
   "metadata": {
    "tags": []
   },
   "outputs": [],
   "source": [
    "from selenium import webdriver\n",
    "from selenium.webdriver.common.keys import Keys\n",
    "import time\n",
    "\n",
    "def glassdoor_job_search(query, location):\n",
    "    # Set up the Selenium webdriver (make sure you have chromedriver installed and its path added to PATH)\n",
    "    driver = webdriver.Chrome()\n",
    "\n",
    "    # Open Glassdoor website\n",
    "    driver.get(\"https://www.glassdoor.com/Job/index.htm\")\n",
    "\n",
    "    # try:\n",
    "        # Find the job search input field and location input field\n",
    "    job_search_box = driver.find_element(\"id\", \"searchBar-jobTitle\")\n",
    "    location_box = driver.find_element(\"id\", \"searchBar-location\")\n",
    "\n",
    "    # Enter the search query and location\n",
    "    job_search_box.clear()\n",
    "    job_search_box.send_keys(query)\n",
    "    location_box.clear()\n",
    "    location_box.send_keys(location)\n",
    "\n",
    "    # Submit the search form\n",
    "    location_box.send_keys(Keys.RETURN)\n",
    "\n",
    "    # Wait for the search results to load\n",
    "    time.sleep(500)\n",
    "\n",
    "    # Get job listings\n",
    "    job_listings = driver.find_elements(\"class\",\"JobsList_jobsList__Ey2Vo\")\n",
    "    \n",
    "    print(job_listings)\n",
    "    for job_listing in job_listings:\n",
    "        # Extract job details (you may need to adjust these depending on the Glassdoor site structure)\n",
    "        # job_title = job_listing.find_element_by_css_selector(\".jobLink\").text\n",
    "        # company = job_listing.find_element_by_css_selector(\".jobInfoItem.jobEmpolyerName\").text\n",
    "        # location = job_listing.find_element_by_css_selector(\".subtle.ib\").text\n",
    "        # date_posted = job_listing.find_element_by_css_selector(\".jobFooter>.minor\").text\n",
    "        company_ = driver.find_element('xpath','.//div[@class=\"EmployerProfile_profileContainer__d5rMb\"]').text\n",
    "        location = driver.find_element('xpath','.//div[@class=\"JobCard_location__N_iYE\"]').text\n",
    "        job_title = driver.find_element('xpath','.//div[contains(@class, \"JobCard_seoLink__WdqHZ\")]').text\n",
    "\n",
    "        # Print job details\n",
    "        print(f\"Job Title: {job_title}\")\n",
    "        print(f\"Company: {company}\")\n",
    "        print(f\"Location: {location}\")\n",
    "        print(f\"Date Posted: {date_posted}\")\n",
    "        print(\"\\n\")\n",
    "\n",
    "#     except Exception as e:\n",
    "#         print(f\"An error occurred: {e}\")\n",
    "\n",
    "#     finally:\n",
    "#         pass\n",
    "#         # Close the browser window\n",
    "#         # driver.quit()\n",
    "\n",
    "# Example usage\n",
    "glassdoor_job_search(\"Software Engineer\", \"San Francisco\")\n"
   ]
  },
  {
   "cell_type": "code",
   "execution_count": null,
   "metadata": {},
   "outputs": [],
   "source": []
  }
 ],
 "metadata": {
  "kernelspec": {
   "display_name": "Python 3 (ipykernel)",
   "language": "python",
   "name": "python3"
  },
  "language_info": {
   "codemirror_mode": {
    "name": "ipython",
    "version": 3
   },
   "file_extension": ".py",
   "mimetype": "text/x-python",
   "name": "python",
   "nbconvert_exporter": "python",
   "pygments_lexer": "ipython3",
   "version": "3.11.4"
  }
 },
 "nbformat": 4,
 "nbformat_minor": 4
}
